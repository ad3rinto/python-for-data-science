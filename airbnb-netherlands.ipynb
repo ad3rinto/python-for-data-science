{
 "cells": [
  {
   "cell_type": "code",
   "execution_count": 11,
   "id": "addfb52a",
   "metadata": {},
   "outputs": [],
   "source": [
    "import numpy as np\n",
    "\n",
    "def create_numpy_array():\n",
    "    \"\"\" Returns a numpy array\n",
    "    >>> create_numpy_array()\n",
    "    array([1,2,3,4,5])\n",
    "    \"\"\"\n",
    "    return np.array([1,2,3,4,5])\n",
    "\n",
    "\n"
   ]
  },
  {
   "cell_type": "code",
   "execution_count": 12,
   "id": "e96f402a",
   "metadata": {},
   "outputs": [
    {
     "data": {
      "text/plain": [
       "array([1, 2, 3, 4, 5])"
      ]
     },
     "execution_count": 12,
     "metadata": {},
     "output_type": "execute_result"
    }
   ],
   "source": [
    "create_numpy_array()"
   ]
  },
  {
   "cell_type": "code",
   "execution_count": 3,
   "id": "debd5e16",
   "metadata": {},
   "outputs": [
    {
     "data": {
      "text/plain": [
       "([0, 1, 2, 3, 4], array([0, 1, 2, 3, 4]))"
      ]
     },
     "execution_count": 3,
     "metadata": {},
     "output_type": "execute_result"
    }
   ],
   "source": [
    "\n",
    "python_list = list(range(5))\n",
    "numpy_array = np.array(range(5))\n",
    "python_list, numpy_array"
   ]
  },
  {
   "cell_type": "code",
   "execution_count": 5,
   "id": "33f5a0e4",
   "metadata": {},
   "outputs": [
    {
     "data": {
      "text/plain": [
       "array([[[0.87053786, 0.45961082, 0.5596455 ],\n",
       "        [0.53699079, 0.28697581, 0.11555825]]])"
      ]
     },
     "execution_count": 5,
     "metadata": {},
     "output_type": "execute_result"
    }
   ],
   "source": [
    "size = (1,2,3)\n",
    "np.random.random_sample(size=size)"
   ]
  },
  {
   "cell_type": "code",
   "execution_count": null,
   "id": "33d874a8",
   "metadata": {},
   "outputs": [],
   "source": []
  }
 ],
 "metadata": {
  "kernelspec": {
   "display_name": "Python 3 (ipykernel)",
   "language": "python",
   "name": "python3"
  },
  "language_info": {
   "codemirror_mode": {
    "name": "ipython",
    "version": 3
   },
   "file_extension": ".py",
   "mimetype": "text/x-python",
   "name": "python",
   "nbconvert_exporter": "python",
   "pygments_lexer": "ipython3",
   "version": "3.9.12"
  }
 },
 "nbformat": 4,
 "nbformat_minor": 5
}
